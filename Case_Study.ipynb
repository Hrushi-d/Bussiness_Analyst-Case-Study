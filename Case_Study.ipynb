{
  "nbformat": 4,
  "nbformat_minor": 0,
  "metadata": {
    "colab": {
      "provenance": []
    },
    "kernelspec": {
      "name": "python3",
      "display_name": "Python 3"
    },
    "language_info": {
      "name": "python"
    }
  },
  "cells": [
    {
      "cell_type": "markdown",
      "source": [
        "# **Case Study Assignment: Warehouse and Retail Sales Analysis**\n",
        "\n"
      ],
      "metadata": {
        "id": "l10D2pP3qZrh"
      }
    },
    {
      "cell_type": "markdown",
      "source": [
        "### **Part 1: Data Preparation**"
      ],
      "metadata": {
        "id": "-mNS_VBXrHMj"
      }
    },
    {
      "cell_type": "markdown",
      "source": [],
      "metadata": {
        "id": "mEy8HwjOrW2w"
      }
    },
    {
      "cell_type": "code",
      "execution_count": 1,
      "metadata": {
        "colab": {
          "base_uri": "https://localhost:8080/",
          "height": 73
        },
        "id": "waNBtPWVXPwR",
        "outputId": "8ca9fa41-8a66-486d-e211-cd266ab092c3"
      },
      "outputs": [
        {
          "output_type": "display_data",
          "data": {
            "text/plain": [
              "<IPython.core.display.HTML object>"
            ],
            "text/html": [
              "\n",
              "     <input type=\"file\" id=\"files-3b8f607e-b2cb-4e1b-9bdf-1b07d5f6eaa0\" name=\"files[]\" multiple disabled\n",
              "        style=\"border:none\" />\n",
              "     <output id=\"result-3b8f607e-b2cb-4e1b-9bdf-1b07d5f6eaa0\">\n",
              "      Upload widget is only available when the cell has been executed in the\n",
              "      current browser session. Please rerun this cell to enable.\n",
              "      </output>\n",
              "      <script>// Copyright 2017 Google LLC\n",
              "//\n",
              "// Licensed under the Apache License, Version 2.0 (the \"License\");\n",
              "// you may not use this file except in compliance with the License.\n",
              "// You may obtain a copy of the License at\n",
              "//\n",
              "//      http://www.apache.org/licenses/LICENSE-2.0\n",
              "//\n",
              "// Unless required by applicable law or agreed to in writing, software\n",
              "// distributed under the License is distributed on an \"AS IS\" BASIS,\n",
              "// WITHOUT WARRANTIES OR CONDITIONS OF ANY KIND, either express or implied.\n",
              "// See the License for the specific language governing permissions and\n",
              "// limitations under the License.\n",
              "\n",
              "/**\n",
              " * @fileoverview Helpers for google.colab Python module.\n",
              " */\n",
              "(function(scope) {\n",
              "function span(text, styleAttributes = {}) {\n",
              "  const element = document.createElement('span');\n",
              "  element.textContent = text;\n",
              "  for (const key of Object.keys(styleAttributes)) {\n",
              "    element.style[key] = styleAttributes[key];\n",
              "  }\n",
              "  return element;\n",
              "}\n",
              "\n",
              "// Max number of bytes which will be uploaded at a time.\n",
              "const MAX_PAYLOAD_SIZE = 100 * 1024;\n",
              "\n",
              "function _uploadFiles(inputId, outputId) {\n",
              "  const steps = uploadFilesStep(inputId, outputId);\n",
              "  const outputElement = document.getElementById(outputId);\n",
              "  // Cache steps on the outputElement to make it available for the next call\n",
              "  // to uploadFilesContinue from Python.\n",
              "  outputElement.steps = steps;\n",
              "\n",
              "  return _uploadFilesContinue(outputId);\n",
              "}\n",
              "\n",
              "// This is roughly an async generator (not supported in the browser yet),\n",
              "// where there are multiple asynchronous steps and the Python side is going\n",
              "// to poll for completion of each step.\n",
              "// This uses a Promise to block the python side on completion of each step,\n",
              "// then passes the result of the previous step as the input to the next step.\n",
              "function _uploadFilesContinue(outputId) {\n",
              "  const outputElement = document.getElementById(outputId);\n",
              "  const steps = outputElement.steps;\n",
              "\n",
              "  const next = steps.next(outputElement.lastPromiseValue);\n",
              "  return Promise.resolve(next.value.promise).then((value) => {\n",
              "    // Cache the last promise value to make it available to the next\n",
              "    // step of the generator.\n",
              "    outputElement.lastPromiseValue = value;\n",
              "    return next.value.response;\n",
              "  });\n",
              "}\n",
              "\n",
              "/**\n",
              " * Generator function which is called between each async step of the upload\n",
              " * process.\n",
              " * @param {string} inputId Element ID of the input file picker element.\n",
              " * @param {string} outputId Element ID of the output display.\n",
              " * @return {!Iterable<!Object>} Iterable of next steps.\n",
              " */\n",
              "function* uploadFilesStep(inputId, outputId) {\n",
              "  const inputElement = document.getElementById(inputId);\n",
              "  inputElement.disabled = false;\n",
              "\n",
              "  const outputElement = document.getElementById(outputId);\n",
              "  outputElement.innerHTML = '';\n",
              "\n",
              "  const pickedPromise = new Promise((resolve) => {\n",
              "    inputElement.addEventListener('change', (e) => {\n",
              "      resolve(e.target.files);\n",
              "    });\n",
              "  });\n",
              "\n",
              "  const cancel = document.createElement('button');\n",
              "  inputElement.parentElement.appendChild(cancel);\n",
              "  cancel.textContent = 'Cancel upload';\n",
              "  const cancelPromise = new Promise((resolve) => {\n",
              "    cancel.onclick = () => {\n",
              "      resolve(null);\n",
              "    };\n",
              "  });\n",
              "\n",
              "  // Wait for the user to pick the files.\n",
              "  const files = yield {\n",
              "    promise: Promise.race([pickedPromise, cancelPromise]),\n",
              "    response: {\n",
              "      action: 'starting',\n",
              "    }\n",
              "  };\n",
              "\n",
              "  cancel.remove();\n",
              "\n",
              "  // Disable the input element since further picks are not allowed.\n",
              "  inputElement.disabled = true;\n",
              "\n",
              "  if (!files) {\n",
              "    return {\n",
              "      response: {\n",
              "        action: 'complete',\n",
              "      }\n",
              "    };\n",
              "  }\n",
              "\n",
              "  for (const file of files) {\n",
              "    const li = document.createElement('li');\n",
              "    li.append(span(file.name, {fontWeight: 'bold'}));\n",
              "    li.append(span(\n",
              "        `(${file.type || 'n/a'}) - ${file.size} bytes, ` +\n",
              "        `last modified: ${\n",
              "            file.lastModifiedDate ? file.lastModifiedDate.toLocaleDateString() :\n",
              "                                    'n/a'} - `));\n",
              "    const percent = span('0% done');\n",
              "    li.appendChild(percent);\n",
              "\n",
              "    outputElement.appendChild(li);\n",
              "\n",
              "    const fileDataPromise = new Promise((resolve) => {\n",
              "      const reader = new FileReader();\n",
              "      reader.onload = (e) => {\n",
              "        resolve(e.target.result);\n",
              "      };\n",
              "      reader.readAsArrayBuffer(file);\n",
              "    });\n",
              "    // Wait for the data to be ready.\n",
              "    let fileData = yield {\n",
              "      promise: fileDataPromise,\n",
              "      response: {\n",
              "        action: 'continue',\n",
              "      }\n",
              "    };\n",
              "\n",
              "    // Use a chunked sending to avoid message size limits. See b/62115660.\n",
              "    let position = 0;\n",
              "    do {\n",
              "      const length = Math.min(fileData.byteLength - position, MAX_PAYLOAD_SIZE);\n",
              "      const chunk = new Uint8Array(fileData, position, length);\n",
              "      position += length;\n",
              "\n",
              "      const base64 = btoa(String.fromCharCode.apply(null, chunk));\n",
              "      yield {\n",
              "        response: {\n",
              "          action: 'append',\n",
              "          file: file.name,\n",
              "          data: base64,\n",
              "        },\n",
              "      };\n",
              "\n",
              "      let percentDone = fileData.byteLength === 0 ?\n",
              "          100 :\n",
              "          Math.round((position / fileData.byteLength) * 100);\n",
              "      percent.textContent = `${percentDone}% done`;\n",
              "\n",
              "    } while (position < fileData.byteLength);\n",
              "  }\n",
              "\n",
              "  // All done.\n",
              "  yield {\n",
              "    response: {\n",
              "      action: 'complete',\n",
              "    }\n",
              "  };\n",
              "}\n",
              "\n",
              "scope.google = scope.google || {};\n",
              "scope.google.colab = scope.google.colab || {};\n",
              "scope.google.colab._files = {\n",
              "  _uploadFiles,\n",
              "  _uploadFilesContinue,\n",
              "};\n",
              "})(self);\n",
              "</script> "
            ]
          },
          "metadata": {}
        },
        {
          "output_type": "stream",
          "name": "stdout",
          "text": [
            "Saving Warehouse_and_Retail_Sales.csv to Warehouse_and_Retail_Sales.csv\n"
          ]
        }
      ],
      "source": [
        "from google.colab import files\n",
        "uploaded = files.upload()\n"
      ]
    },
    {
      "cell_type": "code",
      "source": [],
      "metadata": {
        "id": "n0InJo0qqxnq"
      },
      "execution_count": null,
      "outputs": []
    },
    {
      "cell_type": "code",
      "source": [
        "import pandas as pd\n",
        "import io\n",
        "\n",
        "df = pd.read_csv(io.BytesIO(uploaded['Warehouse_and_Retail_Sales.csv']))\n",
        "print(df)\n",
        "\n"
      ],
      "metadata": {
        "colab": {
          "base_uri": "https://localhost:8080/",
          "height": 0
        },
        "id": "LrgRhgTObqUF",
        "outputId": "bb1ece76-b6ec-4a30-9acd-d4453a38dee8"
      },
      "execution_count": 2,
      "outputs": [
        {
          "output_type": "stream",
          "name": "stdout",
          "text": [
            "        YEAR  MONTH                             SUPPLIER ITEM CODE  \\\n",
            "0       2020      1    REPUBLIC NATIONAL DISTRIBUTING CO    100009   \n",
            "1       2020      1                            PWSWN INC    100024   \n",
            "2       2020      1              RELIABLE CHURCHILL LLLP      1001   \n",
            "3       2020      1            LANTERNA DISTRIBUTORS INC    100145   \n",
            "4       2020      1                 DIONYSOS IMPORTS INC    100293   \n",
            "...      ...    ...                                  ...       ...   \n",
            "307640  2020      9              BOSTON BEER CORPORATION     98868   \n",
            "307641  2020      9  GLOBAL OCEAN AND AIR CARGO SERVICES     98884   \n",
            "307642  2020      9                         HEINEKEN USA     98906   \n",
            "307643  2020      9              RELIABLE CHURCHILL LLLP     98914   \n",
            "307644  2020      9                CONSTANTINE WINES INC     98930   \n",
            "\n",
            "                           ITEM DESCRIPTION ITEM TYPE  RETAIL SALES  \\\n",
            "0                       BOOTLEG RED - 750ML      WINE          0.00   \n",
            "1                 MOMENT DE PLAISIR - 750ML      WINE          0.00   \n",
            "2       S SMITH ORGANIC PEAR CIDER - 18.7OZ      BEER          0.00   \n",
            "3             SCHLINK HAUS KABINETT - 750ML      WINE          0.00   \n",
            "4            SANTORINI GAVALA WHITE - 750ML      WINE          0.82   \n",
            "...                                     ...       ...           ...   \n",
            "307640           SAM ADAMS OCTOBERFEST 1/6K      KEGS          0.00   \n",
            "307641            HARAR BEER 4/6NR - 11.2OZ      BEER          1.50   \n",
            "307642                 DOS EQUIS LAGER 1/2K      KEGS          0.00   \n",
            "307643          LINDEMANS KRIEK NR - 25.4OZ      BEER          0.00   \n",
            "307644        ARIS GREEK LAGER 4/6NR - 11OZ      BEER          0.00   \n",
            "\n",
            "        RETAIL TRANSFERS  WAREHOUSE SALES  \n",
            "0                    0.0              2.0  \n",
            "1                    1.0              4.0  \n",
            "2                    0.0              1.0  \n",
            "3                    0.0              1.0  \n",
            "4                    0.0              0.0  \n",
            "...                  ...              ...  \n",
            "307640               0.0             54.0  \n",
            "307641               1.0              8.0  \n",
            "307642               0.0             22.0  \n",
            "307643               0.0              4.0  \n",
            "307644               0.0              0.0  \n",
            "\n",
            "[307645 rows x 9 columns]\n"
          ]
        }
      ]
    },
    {
      "cell_type": "code",
      "source": [
        "df.describe()"
      ],
      "metadata": {
        "colab": {
          "base_uri": "https://localhost:8080/",
          "height": 300
        },
        "id": "0bsqbpAWbvBv",
        "outputId": "1a949006-5c3c-4f72-af53-8c05679215e7"
      },
      "execution_count": 3,
      "outputs": [
        {
          "output_type": "execute_result",
          "data": {
            "text/plain": [
              "                YEAR          MONTH   RETAIL SALES  RETAIL TRANSFERS  \\\n",
              "count  307645.000000  307645.000000  307642.000000     307645.000000   \n",
              "mean     2018.438525       6.423862       7.024071          6.936465   \n",
              "std         1.083061       3.461812      30.986238         30.237195   \n",
              "min      2017.000000       1.000000      -6.490000        -38.490000   \n",
              "25%      2017.000000       3.000000       0.000000          0.000000   \n",
              "50%      2019.000000       7.000000       0.320000          0.000000   \n",
              "75%      2019.000000       9.000000       3.267500          3.000000   \n",
              "max      2020.000000      12.000000    2739.000000       1990.830000   \n",
              "\n",
              "       WAREHOUSE SALES  \n",
              "count    307645.000000  \n",
              "mean         25.294597  \n",
              "std         249.916798  \n",
              "min       -7800.000000  \n",
              "25%           0.000000  \n",
              "50%           1.000000  \n",
              "75%           5.000000  \n",
              "max       18317.000000  "
            ],
            "text/html": [
              "\n",
              "  <div id=\"df-f1135022-3ce0-49ef-956f-c9e4bdcf284c\" class=\"colab-df-container\">\n",
              "    <div>\n",
              "<style scoped>\n",
              "    .dataframe tbody tr th:only-of-type {\n",
              "        vertical-align: middle;\n",
              "    }\n",
              "\n",
              "    .dataframe tbody tr th {\n",
              "        vertical-align: top;\n",
              "    }\n",
              "\n",
              "    .dataframe thead th {\n",
              "        text-align: right;\n",
              "    }\n",
              "</style>\n",
              "<table border=\"1\" class=\"dataframe\">\n",
              "  <thead>\n",
              "    <tr style=\"text-align: right;\">\n",
              "      <th></th>\n",
              "      <th>YEAR</th>\n",
              "      <th>MONTH</th>\n",
              "      <th>RETAIL SALES</th>\n",
              "      <th>RETAIL TRANSFERS</th>\n",
              "      <th>WAREHOUSE SALES</th>\n",
              "    </tr>\n",
              "  </thead>\n",
              "  <tbody>\n",
              "    <tr>\n",
              "      <th>count</th>\n",
              "      <td>307645.000000</td>\n",
              "      <td>307645.000000</td>\n",
              "      <td>307642.000000</td>\n",
              "      <td>307645.000000</td>\n",
              "      <td>307645.000000</td>\n",
              "    </tr>\n",
              "    <tr>\n",
              "      <th>mean</th>\n",
              "      <td>2018.438525</td>\n",
              "      <td>6.423862</td>\n",
              "      <td>7.024071</td>\n",
              "      <td>6.936465</td>\n",
              "      <td>25.294597</td>\n",
              "    </tr>\n",
              "    <tr>\n",
              "      <th>std</th>\n",
              "      <td>1.083061</td>\n",
              "      <td>3.461812</td>\n",
              "      <td>30.986238</td>\n",
              "      <td>30.237195</td>\n",
              "      <td>249.916798</td>\n",
              "    </tr>\n",
              "    <tr>\n",
              "      <th>min</th>\n",
              "      <td>2017.000000</td>\n",
              "      <td>1.000000</td>\n",
              "      <td>-6.490000</td>\n",
              "      <td>-38.490000</td>\n",
              "      <td>-7800.000000</td>\n",
              "    </tr>\n",
              "    <tr>\n",
              "      <th>25%</th>\n",
              "      <td>2017.000000</td>\n",
              "      <td>3.000000</td>\n",
              "      <td>0.000000</td>\n",
              "      <td>0.000000</td>\n",
              "      <td>0.000000</td>\n",
              "    </tr>\n",
              "    <tr>\n",
              "      <th>50%</th>\n",
              "      <td>2019.000000</td>\n",
              "      <td>7.000000</td>\n",
              "      <td>0.320000</td>\n",
              "      <td>0.000000</td>\n",
              "      <td>1.000000</td>\n",
              "    </tr>\n",
              "    <tr>\n",
              "      <th>75%</th>\n",
              "      <td>2019.000000</td>\n",
              "      <td>9.000000</td>\n",
              "      <td>3.267500</td>\n",
              "      <td>3.000000</td>\n",
              "      <td>5.000000</td>\n",
              "    </tr>\n",
              "    <tr>\n",
              "      <th>max</th>\n",
              "      <td>2020.000000</td>\n",
              "      <td>12.000000</td>\n",
              "      <td>2739.000000</td>\n",
              "      <td>1990.830000</td>\n",
              "      <td>18317.000000</td>\n",
              "    </tr>\n",
              "  </tbody>\n",
              "</table>\n",
              "</div>\n",
              "    <div class=\"colab-df-buttons\">\n",
              "\n",
              "  <div class=\"colab-df-container\">\n",
              "    <button class=\"colab-df-convert\" onclick=\"convertToInteractive('df-f1135022-3ce0-49ef-956f-c9e4bdcf284c')\"\n",
              "            title=\"Convert this dataframe to an interactive table.\"\n",
              "            style=\"display:none;\">\n",
              "\n",
              "  <svg xmlns=\"http://www.w3.org/2000/svg\" height=\"24px\" viewBox=\"0 -960 960 960\">\n",
              "    <path d=\"M120-120v-720h720v720H120Zm60-500h600v-160H180v160Zm220 220h160v-160H400v160Zm0 220h160v-160H400v160ZM180-400h160v-160H180v160Zm440 0h160v-160H620v160ZM180-180h160v-160H180v160Zm440 0h160v-160H620v160Z\"/>\n",
              "  </svg>\n",
              "    </button>\n",
              "\n",
              "  <style>\n",
              "    .colab-df-container {\n",
              "      display:flex;\n",
              "      gap: 12px;\n",
              "    }\n",
              "\n",
              "    .colab-df-convert {\n",
              "      background-color: #E8F0FE;\n",
              "      border: none;\n",
              "      border-radius: 50%;\n",
              "      cursor: pointer;\n",
              "      display: none;\n",
              "      fill: #1967D2;\n",
              "      height: 32px;\n",
              "      padding: 0 0 0 0;\n",
              "      width: 32px;\n",
              "    }\n",
              "\n",
              "    .colab-df-convert:hover {\n",
              "      background-color: #E2EBFA;\n",
              "      box-shadow: 0px 1px 2px rgba(60, 64, 67, 0.3), 0px 1px 3px 1px rgba(60, 64, 67, 0.15);\n",
              "      fill: #174EA6;\n",
              "    }\n",
              "\n",
              "    .colab-df-buttons div {\n",
              "      margin-bottom: 4px;\n",
              "    }\n",
              "\n",
              "    [theme=dark] .colab-df-convert {\n",
              "      background-color: #3B4455;\n",
              "      fill: #D2E3FC;\n",
              "    }\n",
              "\n",
              "    [theme=dark] .colab-df-convert:hover {\n",
              "      background-color: #434B5C;\n",
              "      box-shadow: 0px 1px 3px 1px rgba(0, 0, 0, 0.15);\n",
              "      filter: drop-shadow(0px 1px 2px rgba(0, 0, 0, 0.3));\n",
              "      fill: #FFFFFF;\n",
              "    }\n",
              "  </style>\n",
              "\n",
              "    <script>\n",
              "      const buttonEl =\n",
              "        document.querySelector('#df-f1135022-3ce0-49ef-956f-c9e4bdcf284c button.colab-df-convert');\n",
              "      buttonEl.style.display =\n",
              "        google.colab.kernel.accessAllowed ? 'block' : 'none';\n",
              "\n",
              "      async function convertToInteractive(key) {\n",
              "        const element = document.querySelector('#df-f1135022-3ce0-49ef-956f-c9e4bdcf284c');\n",
              "        const dataTable =\n",
              "          await google.colab.kernel.invokeFunction('convertToInteractive',\n",
              "                                                    [key], {});\n",
              "        if (!dataTable) return;\n",
              "\n",
              "        const docLinkHtml = 'Like what you see? Visit the ' +\n",
              "          '<a target=\"_blank\" href=https://colab.research.google.com/notebooks/data_table.ipynb>data table notebook</a>'\n",
              "          + ' to learn more about interactive tables.';\n",
              "        element.innerHTML = '';\n",
              "        dataTable['output_type'] = 'display_data';\n",
              "        await google.colab.output.renderOutput(dataTable, element);\n",
              "        const docLink = document.createElement('div');\n",
              "        docLink.innerHTML = docLinkHtml;\n",
              "        element.appendChild(docLink);\n",
              "      }\n",
              "    </script>\n",
              "  </div>\n",
              "\n",
              "\n",
              "<div id=\"df-7700eb9b-2d00-41c1-aabf-f578965acc97\">\n",
              "  <button class=\"colab-df-quickchart\" onclick=\"quickchart('df-7700eb9b-2d00-41c1-aabf-f578965acc97')\"\n",
              "            title=\"Suggest charts\"\n",
              "            style=\"display:none;\">\n",
              "\n",
              "<svg xmlns=\"http://www.w3.org/2000/svg\" height=\"24px\"viewBox=\"0 0 24 24\"\n",
              "     width=\"24px\">\n",
              "    <g>\n",
              "        <path d=\"M19 3H5c-1.1 0-2 .9-2 2v14c0 1.1.9 2 2 2h14c1.1 0 2-.9 2-2V5c0-1.1-.9-2-2-2zM9 17H7v-7h2v7zm4 0h-2V7h2v10zm4 0h-2v-4h2v4z\"/>\n",
              "    </g>\n",
              "</svg>\n",
              "  </button>\n",
              "\n",
              "<style>\n",
              "  .colab-df-quickchart {\n",
              "      --bg-color: #E8F0FE;\n",
              "      --fill-color: #1967D2;\n",
              "      --hover-bg-color: #E2EBFA;\n",
              "      --hover-fill-color: #174EA6;\n",
              "      --disabled-fill-color: #AAA;\n",
              "      --disabled-bg-color: #DDD;\n",
              "  }\n",
              "\n",
              "  [theme=dark] .colab-df-quickchart {\n",
              "      --bg-color: #3B4455;\n",
              "      --fill-color: #D2E3FC;\n",
              "      --hover-bg-color: #434B5C;\n",
              "      --hover-fill-color: #FFFFFF;\n",
              "      --disabled-bg-color: #3B4455;\n",
              "      --disabled-fill-color: #666;\n",
              "  }\n",
              "\n",
              "  .colab-df-quickchart {\n",
              "    background-color: var(--bg-color);\n",
              "    border: none;\n",
              "    border-radius: 50%;\n",
              "    cursor: pointer;\n",
              "    display: none;\n",
              "    fill: var(--fill-color);\n",
              "    height: 32px;\n",
              "    padding: 0;\n",
              "    width: 32px;\n",
              "  }\n",
              "\n",
              "  .colab-df-quickchart:hover {\n",
              "    background-color: var(--hover-bg-color);\n",
              "    box-shadow: 0 1px 2px rgba(60, 64, 67, 0.3), 0 1px 3px 1px rgba(60, 64, 67, 0.15);\n",
              "    fill: var(--button-hover-fill-color);\n",
              "  }\n",
              "\n",
              "  .colab-df-quickchart-complete:disabled,\n",
              "  .colab-df-quickchart-complete:disabled:hover {\n",
              "    background-color: var(--disabled-bg-color);\n",
              "    fill: var(--disabled-fill-color);\n",
              "    box-shadow: none;\n",
              "  }\n",
              "\n",
              "  .colab-df-spinner {\n",
              "    border: 2px solid var(--fill-color);\n",
              "    border-color: transparent;\n",
              "    border-bottom-color: var(--fill-color);\n",
              "    animation:\n",
              "      spin 1s steps(1) infinite;\n",
              "  }\n",
              "\n",
              "  @keyframes spin {\n",
              "    0% {\n",
              "      border-color: transparent;\n",
              "      border-bottom-color: var(--fill-color);\n",
              "      border-left-color: var(--fill-color);\n",
              "    }\n",
              "    20% {\n",
              "      border-color: transparent;\n",
              "      border-left-color: var(--fill-color);\n",
              "      border-top-color: var(--fill-color);\n",
              "    }\n",
              "    30% {\n",
              "      border-color: transparent;\n",
              "      border-left-color: var(--fill-color);\n",
              "      border-top-color: var(--fill-color);\n",
              "      border-right-color: var(--fill-color);\n",
              "    }\n",
              "    40% {\n",
              "      border-color: transparent;\n",
              "      border-right-color: var(--fill-color);\n",
              "      border-top-color: var(--fill-color);\n",
              "    }\n",
              "    60% {\n",
              "      border-color: transparent;\n",
              "      border-right-color: var(--fill-color);\n",
              "    }\n",
              "    80% {\n",
              "      border-color: transparent;\n",
              "      border-right-color: var(--fill-color);\n",
              "      border-bottom-color: var(--fill-color);\n",
              "    }\n",
              "    90% {\n",
              "      border-color: transparent;\n",
              "      border-bottom-color: var(--fill-color);\n",
              "    }\n",
              "  }\n",
              "</style>\n",
              "\n",
              "  <script>\n",
              "    async function quickchart(key) {\n",
              "      const quickchartButtonEl =\n",
              "        document.querySelector('#' + key + ' button');\n",
              "      quickchartButtonEl.disabled = true;  // To prevent multiple clicks.\n",
              "      quickchartButtonEl.classList.add('colab-df-spinner');\n",
              "      try {\n",
              "        const charts = await google.colab.kernel.invokeFunction(\n",
              "            'suggestCharts', [key], {});\n",
              "      } catch (error) {\n",
              "        console.error('Error during call to suggestCharts:', error);\n",
              "      }\n",
              "      quickchartButtonEl.classList.remove('colab-df-spinner');\n",
              "      quickchartButtonEl.classList.add('colab-df-quickchart-complete');\n",
              "    }\n",
              "    (() => {\n",
              "      let quickchartButtonEl =\n",
              "        document.querySelector('#df-7700eb9b-2d00-41c1-aabf-f578965acc97 button');\n",
              "      quickchartButtonEl.style.display =\n",
              "        google.colab.kernel.accessAllowed ? 'block' : 'none';\n",
              "    })();\n",
              "  </script>\n",
              "</div>\n",
              "\n",
              "    </div>\n",
              "  </div>\n"
            ],
            "application/vnd.google.colaboratory.intrinsic+json": {
              "type": "dataframe",
              "summary": "{\n  \"name\": \"df\",\n  \"rows\": 8,\n  \"fields\": [\n    {\n      \"column\": \"YEAR\",\n      \"properties\": {\n        \"dtype\": \"number\",\n        \"std\": 108159.51228440202,\n        \"min\": 1.0830605350774478,\n        \"max\": 307645.0,\n        \"num_unique_values\": 6,\n        \"samples\": [\n          307645.0,\n          2018.4385249232068,\n          2020.0\n        ],\n        \"semantic_type\": \"\",\n        \"description\": \"\"\n      }\n    },\n    {\n      \"column\": \"MONTH\",\n      \"properties\": {\n        \"dtype\": \"number\",\n        \"std\": 108766.81735993957,\n        \"min\": 1.0,\n        \"max\": 307645.0,\n        \"num_unique_values\": 8,\n        \"samples\": [\n          6.423861918770011,\n          7.0,\n          307645.0\n        ],\n        \"semantic_type\": \"\",\n        \"description\": \"\"\n      }\n    },\n    {\n      \"column\": \"RETAIL SALES\",\n      \"properties\": {\n        \"dtype\": \"number\",\n        \"std\": 108631.96934667067,\n        \"min\": -6.49,\n        \"max\": 307642.0,\n        \"num_unique_values\": 8,\n        \"samples\": [\n          7.024071388171968,\n          0.32,\n          307642.0\n        ],\n        \"semantic_type\": \"\",\n        \"description\": \"\"\n      }\n    },\n    {\n      \"column\": \"RETAIL TRANSFERS\",\n      \"properties\": {\n        \"dtype\": \"number\",\n        \"std\": 108670.52968148298,\n        \"min\": -38.49,\n        \"max\": 307645.0,\n        \"num_unique_values\": 7,\n        \"samples\": [\n          307645.0,\n          6.936464528921323,\n          3.0\n        ],\n        \"semantic_type\": \"\",\n        \"description\": \"\"\n      }\n    },\n    {\n      \"column\": \"WAREHOUSE SALES\",\n      \"properties\": {\n        \"dtype\": \"number\",\n        \"std\": 108473.89533086242,\n        \"min\": -7800.0,\n        \"max\": 307645.0,\n        \"num_unique_values\": 8,\n        \"samples\": [\n          25.294596954281722,\n          1.0,\n          307645.0\n        ],\n        \"semantic_type\": \"\",\n        \"description\": \"\"\n      }\n    }\n  ]\n}"
            }
          },
          "metadata": {},
          "execution_count": 3
        }
      ]
    },
    {
      "cell_type": "code",
      "source": [
        "#Check Null Values\n",
        "df.isnull().sum()"
      ],
      "metadata": {
        "colab": {
          "base_uri": "https://localhost:8080/",
          "height": 366
        },
        "id": "uTlvRmILbymP",
        "outputId": "ee30817f-b966-4699-cf63-a1bd5dc8ac84"
      },
      "execution_count": 51,
      "outputs": [
        {
          "output_type": "execute_result",
          "data": {
            "text/plain": [
              "YEAR                  0\n",
              "MONTH                 0\n",
              "SUPPLIER            167\n",
              "ITEM CODE             0\n",
              "ITEM DESCRIPTION      0\n",
              "ITEM TYPE             1\n",
              "RETAIL SALES          3\n",
              "RETAIL TRANSFERS      0\n",
              "WAREHOUSE SALES       0\n",
              "dtype: int64"
            ],
            "text/html": [
              "<div>\n",
              "<style scoped>\n",
              "    .dataframe tbody tr th:only-of-type {\n",
              "        vertical-align: middle;\n",
              "    }\n",
              "\n",
              "    .dataframe tbody tr th {\n",
              "        vertical-align: top;\n",
              "    }\n",
              "\n",
              "    .dataframe thead th {\n",
              "        text-align: right;\n",
              "    }\n",
              "</style>\n",
              "<table border=\"1\" class=\"dataframe\">\n",
              "  <thead>\n",
              "    <tr style=\"text-align: right;\">\n",
              "      <th></th>\n",
              "      <th>0</th>\n",
              "    </tr>\n",
              "  </thead>\n",
              "  <tbody>\n",
              "    <tr>\n",
              "      <th>YEAR</th>\n",
              "      <td>0</td>\n",
              "    </tr>\n",
              "    <tr>\n",
              "      <th>MONTH</th>\n",
              "      <td>0</td>\n",
              "    </tr>\n",
              "    <tr>\n",
              "      <th>SUPPLIER</th>\n",
              "      <td>167</td>\n",
              "    </tr>\n",
              "    <tr>\n",
              "      <th>ITEM CODE</th>\n",
              "      <td>0</td>\n",
              "    </tr>\n",
              "    <tr>\n",
              "      <th>ITEM DESCRIPTION</th>\n",
              "      <td>0</td>\n",
              "    </tr>\n",
              "    <tr>\n",
              "      <th>ITEM TYPE</th>\n",
              "      <td>1</td>\n",
              "    </tr>\n",
              "    <tr>\n",
              "      <th>RETAIL SALES</th>\n",
              "      <td>3</td>\n",
              "    </tr>\n",
              "    <tr>\n",
              "      <th>RETAIL TRANSFERS</th>\n",
              "      <td>0</td>\n",
              "    </tr>\n",
              "    <tr>\n",
              "      <th>WAREHOUSE SALES</th>\n",
              "      <td>0</td>\n",
              "    </tr>\n",
              "  </tbody>\n",
              "</table>\n",
              "</div><br><label><b>dtype:</b> int64</label>"
            ]
          },
          "metadata": {},
          "execution_count": 51
        }
      ]
    },
    {
      "cell_type": "code",
      "source": [
        "print(df[df['SUPPLIER'].isnull()])"
      ],
      "metadata": {
        "colab": {
          "base_uri": "https://localhost:8080/",
          "height": 0
        },
        "id": "2wOCYXHKb2I4",
        "outputId": "f264915a-f2b9-4b0d-c1dc-b9d9a053366d"
      },
      "execution_count": 5,
      "outputs": [
        {
          "output_type": "stream",
          "name": "stdout",
          "text": [
            "        YEAR  MONTH SUPPLIER ITEM CODE           ITEM DESCRIPTION  \\\n",
            "106     2020      1      NaN       107  JIGGER MEASURE SHOT GLASS   \n",
            "188     2020      1      NaN       113     BARTENDERS BLACK  BOOK   \n",
            "231     2020      1      NaN       115    PLASTIC SHOT GLASS PACK   \n",
            "252     2020      1      NaN       117    WHISKEY TASTING JOURNAL   \n",
            "261     2020      1      NaN       118    PLASTIC WINE GLASS PACK   \n",
            "...      ...    ...      ...       ...                        ...   \n",
            "296544  2020      9      NaN       119       BRUMATE WINE TUMBLER   \n",
            "296601  2020      9      NaN       123      HOLIDAY TOTE FOIL BAG   \n",
            "299492  2020      9      NaN         3                     COUPON   \n",
            "302910  2020      9      NaN         4                   RMS ITEM   \n",
            "307604  2020      9      NaN        WC                WINE CREDIT   \n",
            "\n",
            "           ITEM TYPE  RETAIL SALES  RETAIL TRANSFERS  WAREHOUSE SALES  \n",
            "106     STR_SUPPLIES         14.69              18.0              0.0  \n",
            "188     STR_SUPPLIES          0.40               0.0              0.0  \n",
            "231     STR_SUPPLIES          5.71               6.0              0.0  \n",
            "252     STR_SUPPLIES          0.08               0.0              0.0  \n",
            "261     STR_SUPPLIES          7.40              10.0              0.0  \n",
            "...              ...           ...               ...              ...  \n",
            "296544  STR_SUPPLIES          2.00               0.0              0.0  \n",
            "296601  STR_SUPPLIES          0.25               0.0              0.0  \n",
            "299492   NON-ALCOHOL           NaN               0.0              0.0  \n",
            "302910   NON-ALCOHOL           NaN               0.0              0.0  \n",
            "307604           REF          0.00               0.0            -70.0  \n",
            "\n",
            "[167 rows x 9 columns]\n"
          ]
        }
      ]
    },
    {
      "cell_type": "code",
      "source": [
        "print(df[df['ITEM TYPE'].isnull()])"
      ],
      "metadata": {
        "colab": {
          "base_uri": "https://localhost:8080/",
          "height": 0
        },
        "id": "PghCnX-Bb5Im",
        "outputId": "d81a3056-c34b-4fba-9a01-bcd0196b7ed2"
      },
      "execution_count": 6,
      "outputs": [
        {
          "output_type": "stream",
          "name": "stdout",
          "text": [
            "       YEAR  MONTH                           SUPPLIER ITEM CODE  \\\n",
            "95725  2017     10  REPUBLIC NATIONAL DISTRIBUTING CO    347939   \n",
            "\n",
            "                               ITEM DESCRIPTION ITEM TYPE  RETAIL SALES  \\\n",
            "95725  FONTANAFREDDA BAROLO SILVER LABEL 750 ML       NaN           0.0   \n",
            "\n",
            "       RETAIL TRANSFERS  WAREHOUSE SALES  \n",
            "95725               0.0              1.0  \n"
          ]
        }
      ]
    },
    {
      "cell_type": "code",
      "source": [
        "print(df[df['RETAIL SALES'].isnull()])"
      ],
      "metadata": {
        "colab": {
          "base_uri": "https://localhost:8080/",
          "height": 0
        },
        "id": "xYCHeIGDb-vb",
        "outputId": "afbe244e-84fb-49fb-da45-c4ab132065d8"
      },
      "execution_count": 7,
      "outputs": [
        {
          "output_type": "stream",
          "name": "stdout",
          "text": [
            "        YEAR  MONTH SUPPLIER ITEM CODE ITEM DESCRIPTION    ITEM TYPE  \\\n",
            "18390   2020      7      NaN         4         RMS ITEM  NON-ALCOHOL   \n",
            "299492  2020      9      NaN         3           COUPON  NON-ALCOHOL   \n",
            "302910  2020      9      NaN         4         RMS ITEM  NON-ALCOHOL   \n",
            "\n",
            "        RETAIL SALES  RETAIL TRANSFERS  WAREHOUSE SALES  \n",
            "18390            NaN               0.0              0.0  \n",
            "299492           NaN               0.0              0.0  \n",
            "302910           NaN               0.0              0.0  \n"
          ]
        }
      ]
    },
    {
      "cell_type": "code",
      "source": [
        "print(df.dtypes)"
      ],
      "metadata": {
        "colab": {
          "base_uri": "https://localhost:8080/",
          "height": 0
        },
        "id": "9Vs0mcjrcAZx",
        "outputId": "24d97845-5879-4494-ad7f-073bdddd44bc"
      },
      "execution_count": 8,
      "outputs": [
        {
          "output_type": "stream",
          "name": "stdout",
          "text": [
            "YEAR                  int64\n",
            "MONTH                 int64\n",
            "SUPPLIER             object\n",
            "ITEM CODE            object\n",
            "ITEM DESCRIPTION     object\n",
            "ITEM TYPE            object\n",
            "RETAIL SALES        float64\n",
            "RETAIL TRANSFERS    float64\n",
            "WAREHOUSE SALES     float64\n",
            "dtype: object\n"
          ]
        }
      ]
    },
    {
      "cell_type": "code",
      "source": [
        "#Check Unique Values\n",
        "\n",
        "print(df['SUPPLIER'].unique())\n",
        "print(df['ITEM CODE'].unique())\n",
        "print(df['ITEM DESCRIPTION'].unique())\n",
        "print(df['ITEM TYPE'].unique())"
      ],
      "metadata": {
        "colab": {
          "base_uri": "https://localhost:8080/",
          "height": 0
        },
        "id": "BiIdBcmMcBO9",
        "outputId": "20148dfb-0f64-48bf-c1cd-44e60eba3420"
      },
      "execution_count": 52,
      "outputs": [
        {
          "output_type": "stream",
          "name": "stdout",
          "text": [
            "['REPUBLIC NATIONAL DISTRIBUTING CO' 'PWSWN INC' 'RELIABLE CHURCHILL LLLP'\n",
            " 'LANTERNA DISTRIBUTORS INC' 'DIONYSOS IMPORTS INC'\n",
            " 'KYSELA PERE ET FILS LTD' 'SANTA MARGHERITA USA INC'\n",
            " 'BROWN-FORMAN BEVERAGES WORLDWIDE' 'JIM BEAM BRANDS CO'\n",
            " 'INTERNATIONAL CELLARS LLC' 'HEAVEN HILL DISTILLERIES INC'\n",
            " 'BACCHUS IMPORTERS LTD' 'MONSIEUR TOUTON SELECTION'\n",
            " 'THE COUNTRY VINTNER, LLC DBA WINEBOW' 'ROYAL WINE CORP'\n",
            " 'STE MICHELLE WINE ESTATES' 'Default' 'SAZERAC CO' 'SALVETO IMPORTS LLC'\n",
            " 'HUB WINE CORPORATION' 'ALLAGASH BREWING COMPANY' 'CAMPARI AMERICA LLC'\n",
            " 'PERNOD RICARD USA LLC' 'PRESTIGE BEVERAGE GROUP OF MD LLC'\n",
            " 'BACARDI USA INC' 'YOUNG WON TRADING INC' 'TROEGS BREWING COMPANY'\n",
            " 'CASTLE BRANDS USA CORP' 'LEGENDS LTD' 'WASHBURN WINE CO'\n",
            " 'CELICAR LLC DBA TWIN VALLEY DISTILLERS' 'DOPS INC'\n",
            " 'JACKSON FAMILY ENTERPRISES INC' 'BUCK DISTRIBUTING COMPANY INC'\n",
            " 'PUNTO VINO LLC' 'VICTORY BREWING COMPANY LLC' 'THE WINE GROUP'\n",
            " 'ELITE WINES IMPORTS' 'LUNEAU USA INC' 'BARON FRANCOIS LTD'\n",
            " 'PROXIMO SPIRITS INC' 'SOUTHERN GLAZERS WINE AND SPIRITS'\n",
            " 'DIAGEO NORTH AMERICA INC' 'OPICI FAMILY DISTRIBUTING OF MD'\n",
            " 'MICHAEL R DOWNEY SELECTIONS INC' nan 'ATLAS BREW WORKS LLC'\n",
            " 'FRONT PORCH MICRO WINERY LLC' 'TREASURY WINE ESTATES AMERICAS COMPANY'\n",
            " 'TRADEWINDS SPECIALTY IMPORTS LLC' 'CONSTELLATION BRANDS'\n",
            " 'SIERRA NEVADA BREWING CO' 'DUGGANS DISTILLERS PROD'\n",
            " 'VINTAGE WINE ESTATES INC' 'SAGAMORE WHISKEY LLC' 'J LOHR WINERY'\n",
            " 'LUXCO SPIRITED BRANDS' 'NEW PARROTT & CO'\n",
            " 'CRAFT WINE & SPIRITS OF MARYLAND LLC' 'MHW LTD'\n",
            " 'WILLIAM GRANT AND SONS INC' 'INTERBALT PRODUCTS CORP'\n",
            " 'ARTISANS & VINES LLC' 'BRONCO WINE COMPANY' 'TI BEVERAGE GROUP LTD'\n",
            " 'DELMAR BREWING COMPANY LLC' 'UNITED STATES DISTILLED PRODUCTS'\n",
            " 'RIGHT FORWARD LLC' 'A I G WINE & SPIRITS' 'GRAPES OF SPAIN INC'\n",
            " 'DEUTSCH FAMILY WINE & SPIRITS' 'MARK ANTHONY BRANDS INC'\n",
            " 'SUTTER HOME WINERY INC' 'DUVEL MOORTGAT USA LTD' 'BACKUP BEVERAGE'\n",
            " 'NORTH LOCK LLC DBA PORT CITY BREWING CO' 'PATERNO IMPORTS LTD'\n",
            " 'BANFI PRODUCTS CORP' 'HEINEKEN USA' 'CONSTANTINE WINES INC'\n",
            " 'JOS VICTORI WINES' 'STOLI GROUP (USA) LLC' 'E & J GALLO WINERY'\n",
            " 'DUCKHORN WINE COMPANY' 'TRI-VIN IMPORTS' 'PIPE CREEK WINES LLC'\n",
            " 'TREFETHEN VINEYARDS' 'BOSTON BEER CORPORATION' 'DON SEBASTIANI & SONS'\n",
            " 'VIGNOBLES LVDH USA INC' 'TRICANA SHIPPERS & IMPORT'\n",
            " 'LAPHAM SALES & MARKETING DBA LAPHAM' 'SCHUG CARNEROS ESTATE WINERY'\n",
            " 'PARK STREET IMPORTS LLC' 'AREL GROUP WINE & SPIRITS'\n",
            " 'MILLER BREWING COMPANY' 'KOBRAND CORPORATION'\n",
            " 'EASTERN LIQUOR DISTRIBUTORS INC' 'THE EDRINGTON GROUP USA LLC'\n",
            " 'FRANCIS COPPOLA WINERY LLC' 'SURVILLE ENTERPRISES CORP'\n",
            " 'SERRALLES USA LLC' 'DELICATO FAMILY VINEYARDS' 'REMY COINTREAU USA'\n",
            " 'CHASSEUR WINE LLC' 'AMERICAN BEVERAGE CORPORATION' 'MOET HENNESSY USA'\n",
            " 'KATCEF BROTHERS INC' 'FIVE GRAPES LLC' 'PRECEPT BRANDS LLC'\n",
            " 'DMV DISTRIBUTING LLC' 'FETZER VINEYARDS' 'TESTA WINES OF THE WORLD LTD'\n",
            " 'THE HESS COLLECTION' 'AMERICAN BEVERAGE MARKETERS' 'TAPWINES'\n",
            " 'HONIG VINEYARD AND WINERY' 'PREMIUM DISTRIBUTORS INC'\n",
            " 'JACK POUST & COMPANY INC' 'MONTEBELLO BRANDS INC'\n",
            " 'SIDNEY-FRANK IMPORTING CO' 'OREGON BREWING COMPANY'\n",
            " 'NARRAGANSETT BREWING COMPANY' 'ANHEUSER BUSCH INC'\n",
            " 'NEW BELGIUM BREWING INC' 'CROWN IMPORTS' 'PABST BREWING CO'\n",
            " 'ST SUPERY INC' 'THE BROOKLYN BREWERY CORPORATION'\n",
            " 'LABATT USA OPERATING CO LLC' 'GLOBAL OCEAN AND AIR CARGO SERVICES'\n",
            " 'BANVILLE & JONES WINE MERCHANTS' 'FLYING DOG BREWERY LLLP'\n",
            " 'MASS BAY BREWING CO' 'C MONDAVI & SONS'\n",
            " 'CANTINIERE IMPORTS & DISTRIBUTING INC' 'FOWLES WINE USA INC'\n",
            " 'FREIXENET MIONETTO USA INC' 'NICKOLAS IMPORTS LLC'\n",
            " 'DANGEROUS WINE GROUP LLC' 'MACK & SCHUHLE INC' 'NICHE IMPORTERS'\n",
            " 'FREE RUN WINE MERCHANTS LLC' 'QUINTESSENTIAL LLC'\n",
            " 'GROTH VINEYARDS & WINERY' 'TAP26MD LLC' 'SMT AQUISITIONS LLC'\n",
            " 'ATLANTIC WINE & SPIRITS' 'FREIXENET USA' 'CARROLL CREEK WHISKEY LLC'\n",
            " 'FERRARI CARANO WINERY' 'ALLIED IMPORTERS USA LTD' 'FN CELLARS LLC'\n",
            " 'YUENGLING BREWERY' 'THE SPANISH WINE IMPORTERS LLC' 'GAMBRINUS'\n",
            " 'EVEREST SPIRITS LLC' 'TENTH HARVEST LLC' 'SOVEREIGN BRANDS LLC'\n",
            " 'MADIDUS LLC' 'MCNEILL INDEPENDENT SPIRIT CREATORS LLC' 'RVWC LLC'\n",
            " 'THE RIVER WINE' 'HOME BREW MART INC' 'ST KILLIAN IMPORTING CO INC'\n",
            " 'COASTAL BREWING COMPANY LLC' 'CLIPPER CITY BREWING CO'\n",
            " 'VERMONT HARD CIDER COMPANY LLC' 'DC BRAU BREWING LLC'\n",
            " 'SPAINS BEST BEERS INC' 'BBL INC' 'BINDING BRAUEREI USA INC'\n",
            " 'TERRAPIN BEER COMPANY' 'BOLD ROCK PARTNERS LP' 'STEFANO INCORPORATED'\n",
            " 'WAGNER WINE COMPANY LLC' 'IMPERO WINE DISTRIBUTORS VIRGINIA INC'\n",
            " 'CHARLES JACQUIN ET CIE INC' 'WINE BRIDGE IMPORTS INC' 'ZURENA LLC'\n",
            " 'SAN ANTONIO WINERY INC' 'GOOSE RIDGE LLC' 'SOKOL BLOSSER LTD'\n",
            " \"O'NEILL BEVERAGES CO LLC\" 'SCHMITT SOHNE INC'\n",
            " 'GEORGIAN HOUSE OF GREATER WASHINGTON' 'MEXCOR INTERNATIONAL'\n",
            " 'THE SANDY BOTTOM ENTERPRISES LLC' 'E M D SALES INC'\n",
            " 'CABERNET CORPORATION' 'FOLEY FAMILY WINES INC'\n",
            " 'PLUME RIDGE IRREVOCABLE TRUST' 'OSLO ENTERPRISE'\n",
            " 'THE TRITON COLLECTION INC' 'SWEETWATER BREWING COMPANY LLC'\n",
            " 'PHILLIPS FARMS LLC' 'ELK RUN VINEYARDS' 'LCF WINE COMPANY LLC'\n",
            " 'ROBERT OATLEY VINEYARDS INC' 'TREANA WINERY LLC' 'VINTAGE POINT LLC'\n",
            " 'AIKO IMPORTERS INC' 'WELL OILED WINE COMPANY LLC'\n",
            " 'FILIBUSTER BARRELS LLC' 'POTOMAC SELECTIONS INC' 'RED INK IMPORTS'\n",
            " 'MAST-JAEGERMEISTER US INC' 'VINTURE WINE COMPANY LLC'\n",
            " 'SCOPERTA IMPORTING COMPANY INC' 'PARAGON VINEYARD CO INC'\n",
            " 'KLEIN FAMILY VINTNERS' 'ROOTS RUN DEEP LLC' 'WI INC'\n",
            " 'WILLIAM HARRISON IMPORTS' 'FLAVOR SEEKERS LLC' 'FIFTH GENERATION INC'\n",
            " 'RUSSIAN STANDARD VODKA (USA) INC' 'COPPER CANE LLC'\n",
            " 'STELLAR IMPORTING CO LLC' 'LEGACY PARTNERS DISTRIBUTION LLC'\n",
            " 'REPUBLIC RESTORATIVES' 'SPLINTER GROUP NAPA LLC'\n",
            " 'FREDERICK WILDMAN & SONS' 'THREE STARS BREWING COMPANY LLC'\n",
            " 'PRESTIGE WINE IMPORTS' 'AZABU DISTILLING CO LLC'\n",
            " 'IMPERO WINE DISTRIBUTORS' 'VINTUS LLC' 'AMERICAN FIDELITY TRADING'\n",
            " 'HOTALING & CO LLC' 'PALM BAY IMPORTS' 'BASQUE BAR LLC'\n",
            " 'COMETE WINES LLC' 'SANGLIER SELECTIONS LLC'\n",
            " 'GF WINES, LLC DBA GARY FARRELL WINERY' 'MACCHU PISCO LLC'\n",
            " 'INFINIUM SPIRITS INC' 'VIN DIVINO LTD' 'FAR NIENTE WINERY INC'\n",
            " 'JORDAN VINEYARD' 'ST RICE WINE INC' 'DISARONNO INTERNATIONAL LLC'\n",
            " 'ADAMBA IMPORTS INTL' 'SUGARLOAF MOUNTAIN SUNLIGHT VINEYARD LLC'\n",
            " 'LAIRD AND COMPANY' 'RUTHERFORD WINE COMPANY' 'NOVELTY MD INC'\n",
            " 'WARSTEINER IMPORTERS' 'SLIGO MILL BREWING LLC' 'HOUTON PURVEYORS LLC'\n",
            " 'OHMRONE WINE AND LIQUOR LLC' 'MOUNT DEFIANCE CIDERY & DISTILLERY LLC'\n",
            " 'NEGUS BREWING COMPANY LLC' 'NEXTERRA WINE COMPANY'\n",
            " 'CITIZENS BREWING LLC' 'WESTERN SPIRITS BEVERAGE COMPANY LLC'\n",
            " 'LYON DISTILLING COMPANY LLC' 'BULLSHINE DISTILLERY LLC'\n",
            " 'DRAGON DISTILLERY LLC' 'OCEAN CITY BREWING CO LLC' 'LION NATHAN USA INC'\n",
            " 'KAHN PAPER COMPANY INC' 'CHEVAL QUANCARD' 'FRUIT OF THE VINES INC'\n",
            " 'SUGARLOAF MOUNTAIN VINEYARD LLC' 'KING ESTATE WINERY'\n",
            " 'ASAHI BEER USA INC' 'SINGHA NORTH AMERICA INC' 'HAMCO DC'\n",
            " 'BROOKEVILLE BREWING LLC' 'MESOZOIC TECHNOLOGIES LLC' 'BITTERMILK LLC'\n",
            " 'HARVEST IMPORTING LLC' 'REGAL WINE IMPORTS INC' 'THE WINE SOURCE INC'\n",
            " 'WINERY EXCHANGE INC' 'Z WINE GALLERY IMPORTS LLC' 'SAWM IMPORTS LLC'\n",
            " 'ST GEORGE SPIRITS INC' 'WILLIAMS CORNER WINE' 'LOOK VODKA LLC'\n",
            " 'BREWDOG BREWING COMPANY LLC' 'TRUE RESPITE BREWING COMPANY LLC'\n",
            " 'CROOK & MARKER LLC' 'VINIFERA DISTRIBUTING OF MARYLAND INC'\n",
            " 'MARQUEE SELECTIONS LLC' 'SMITH-ANDERSON ENTERPRISES INC'\n",
            " 'PARALLEL WORLD BREWING COMPANY' 'A VINTNERS SELECTIONS'\n",
            " 'DUCLAW BREWERY LLC' 'AMERICAN VINTAGE BEVERAGE INC'\n",
            " 'GRAPES & BARLEY LLC' 'SOUTHERN WINE & SPIRITS OF MARYLAND'\n",
            " 'CALVERT BREWING COMPANY' 'STARR HILL BREWERY LLC'\n",
            " 'GRAIL POINT BREWERY LLC' 'DOMAINE SELECT WINE & SPIRITS LLC'\n",
            " 'DOGFISH HEAD CRAFT BREWERY' 'WILSON DANIELS LTD'\n",
            " 'BOUTIQUE VINEYARDS LLC' 'ROBERT KACHER SELECTIONS LLC'\n",
            " 'EXCELSIOR WINE COMPANY LLC' 'FREDERICK P WINNER LTD'\n",
            " 'BOND DISTRIBUTING CO' 'ARCHER ROOSE LLC' 'AZIZ SHAFI TANNIC TONGUE'\n",
            " 'MONOCACY BREWING CO LLC' 'BASIGNANI WINERY' 'FX MATT BREWING CO'\n",
            " 'CRAFT BREW ALLIANCE INC' 'BOORDY VINEYARDS' 'SIMON N CELLARS LLC'\n",
            " 'VINTAGE WINES INC' 'ONE TRUE VINE' 'FIORE WINERY'\n",
            " 'SPADA ENTERPRISES INC' 'USA WINE WEST LLC' 'A&W BORDERS LLC' 'OENOS LLC'\n",
            " 'CAPE STARZ WINE LLC' 'A&E INC' 'LATITUDE BEVERAGE COMPANY'\n",
            " 'USA WINE IMPORTS' 'THREE HENS LLC T/A TENTH HARVEST'\n",
            " 'JOHN GIVEN WINES INC' 'BARREL ONE INC' 'SCHEID VINEYARDS CALIFORNIA INC'\n",
            " 'NOBLE VINTNERS INC' 'FRANK LIN MD' '8 VINI INC'\n",
            " 'INTERNATIONAL SPIRITS & WINES LLC'\n",
            " 'CLASSIC WINE IMPORTS INC DBA VISION WINE' 'FRITZ IMPORTS LLC'\n",
            " 'PLATA WINE PARTNERS LLC' 'DOGFISH HEAD DISTILLERY LLC'\n",
            " 'WETTEN IMPORTERS INC' 'THE VINERY LLC' 'BORVIN BEVERAGE'\n",
            " 'VOLUBILIS IMPORTS INC' 'WEIN-BAUER INC' 'A HARDY USA LTD'\n",
            " 'AW DIRECT LLC' 'ROBERT GIRAUD' 'DESCHUTES BREWERY INC'\n",
            " 'ALTITUDE SPIRITS INC' 'CLASSIC WINE IMPORTS INC'\n",
            " 'SUBARASHII KUDAMONO CO INC' 'GRAND ENCLOS DU CHATEAU DE CERONS'\n",
            " 'CHEF SOUS LLC' \"GATOR RON'S LLC\" 'PREMIUM DISTRIBUTORS OF MARYLAND'\n",
            " 'UNITED STATES BEVERAGE' 'URUGUAY IMPORTS LTD' 'WINEBOW INC'\n",
            " 'RAPP CAPITAL LLC' 'CHATEAU DIANA LLC' 'G GAUTHIER CELLARS INC'\n",
            " 'FREELANCE WINES LLC' 'MERRYVALE VINEYARDS'\n",
            " \"D'AQUINO ITALIAN IMPORTING CO INC\" 'MONDO VINO' 'ORGANIC VINTNERS INC'\n",
            " 'ARIS A ZISSIS' 'WHITE ROCK DISTILLERS INC' 'LINNE CALODO INC'\n",
            " 'LA ISLA CORPORATION' 'FAROPIAN SPIRITS LTD' 'MAISON JOMERE LTD'\n",
            " 'RED MOUNTAIN DISTILLING & SPIRITS LLC' 'PACIFIC RIM WINEMAKERS'\n",
            " 'ROBERT OATLEY' 'SABLE RIDGE VINEYARD LLC'\n",
            " 'HEIMBUCH ESTATE VINEYARDS AND WINERY LLC' 'NICE LEGS LLC'\n",
            " 'CHADDSFORD WINERY LTD' 'VINTAGE VIRGINIA APPLES' 'DREYFUS ASHBY INC'\n",
            " 'MEIOMI' 'PAMPA BEVERAGES LLC DBA TRANSNATIONAL SU' 'DCD ENTERPRISES LLC'\n",
            " 'CASA CHIRICO LLC' 'BLACK ANKLE VINEYARDS LLC'\n",
            " 'DOGFISH HEAD CRAFT BREWERY LLC' 'NIEBAUM COPPOLA ESTATE WINERY LP'\n",
            " 'DISTRICT CIDER COMPANY INC' 'ONE EIGHT DISTILLING LLC'\n",
            " 'RED MOUNTAIN DISTILLING AND SPIRITS LLC' 'CHARM CITY BEVERAGE LLC'\n",
            " 'CHEERS DISTRIBUTING INC' 'THE DOG BEVERAGE CO INC' 'MARKERS EDGE LLC'\n",
            " 'FIOR DI SOLE LLC' 'RSL HOLDINGS INC' 'SNR HOLDINGS LLC' 'GJS SALES INC'\n",
            " 'TOBACCO BARN DISTILLERY' 'WITH MALUS AFORETHOUGHT LLC']\n",
            "['100009' '100024' '1001' ... '355080' '356578' '356580']\n",
            "['BOOTLEG RED - 750ML' 'MOMENT DE PLAISIR - 750ML'\n",
            " 'S SMITH ORGANIC PEAR CIDER - 18.7OZ' ...\n",
            " 'CHOYA SPARKLING UME FRUIT & WINE - 187ML'\n",
            " 'QUINTA DA DEVESA TINTO - 750ML' 'SANDPIPER CHARDONNAY - 750ML']\n",
            "['WINE' 'BEER' 'LIQUOR' 'STR_SUPPLIES' 'KEGS' 'REF' 'DUNNAGE'\n",
            " 'NON-ALCOHOL' nan]\n"
          ]
        }
      ]
    },
    {
      "cell_type": "code",
      "source": [
        "df_cleaned = df.dropna(subset=['ITEM TYPE', 'RETAIL SALES'])\n",
        "df_cleaned.isnull().sum()"
      ],
      "metadata": {
        "colab": {
          "base_uri": "https://localhost:8080/",
          "height": 366
        },
        "id": "DTZ2KqVxcIKW",
        "outputId": "6cd3b093-fe98-4930-e451-1772347b094c"
      },
      "execution_count": 10,
      "outputs": [
        {
          "output_type": "execute_result",
          "data": {
            "text/plain": [
              "YEAR                  0\n",
              "MONTH                 0\n",
              "SUPPLIER            164\n",
              "ITEM CODE             0\n",
              "ITEM DESCRIPTION      0\n",
              "ITEM TYPE             0\n",
              "RETAIL SALES          0\n",
              "RETAIL TRANSFERS      0\n",
              "WAREHOUSE SALES       0\n",
              "dtype: int64"
            ],
            "text/html": [
              "<div>\n",
              "<style scoped>\n",
              "    .dataframe tbody tr th:only-of-type {\n",
              "        vertical-align: middle;\n",
              "    }\n",
              "\n",
              "    .dataframe tbody tr th {\n",
              "        vertical-align: top;\n",
              "    }\n",
              "\n",
              "    .dataframe thead th {\n",
              "        text-align: right;\n",
              "    }\n",
              "</style>\n",
              "<table border=\"1\" class=\"dataframe\">\n",
              "  <thead>\n",
              "    <tr style=\"text-align: right;\">\n",
              "      <th></th>\n",
              "      <th>0</th>\n",
              "    </tr>\n",
              "  </thead>\n",
              "  <tbody>\n",
              "    <tr>\n",
              "      <th>YEAR</th>\n",
              "      <td>0</td>\n",
              "    </tr>\n",
              "    <tr>\n",
              "      <th>MONTH</th>\n",
              "      <td>0</td>\n",
              "    </tr>\n",
              "    <tr>\n",
              "      <th>SUPPLIER</th>\n",
              "      <td>164</td>\n",
              "    </tr>\n",
              "    <tr>\n",
              "      <th>ITEM CODE</th>\n",
              "      <td>0</td>\n",
              "    </tr>\n",
              "    <tr>\n",
              "      <th>ITEM DESCRIPTION</th>\n",
              "      <td>0</td>\n",
              "    </tr>\n",
              "    <tr>\n",
              "      <th>ITEM TYPE</th>\n",
              "      <td>0</td>\n",
              "    </tr>\n",
              "    <tr>\n",
              "      <th>RETAIL SALES</th>\n",
              "      <td>0</td>\n",
              "    </tr>\n",
              "    <tr>\n",
              "      <th>RETAIL TRANSFERS</th>\n",
              "      <td>0</td>\n",
              "    </tr>\n",
              "    <tr>\n",
              "      <th>WAREHOUSE SALES</th>\n",
              "      <td>0</td>\n",
              "    </tr>\n",
              "  </tbody>\n",
              "</table>\n",
              "</div><br><label><b>dtype:</b> int64</label>"
            ]
          },
          "metadata": {},
          "execution_count": 10
        }
      ]
    },
    {
      "cell_type": "code",
      "source": [
        "df_cleaned['SUPPLIER'] = df['SUPPLIER'].fillna('UNKNOWN')"
      ],
      "metadata": {
        "colab": {
          "base_uri": "https://localhost:8080/",
          "height": 0
        },
        "id": "cxJqeEtrcKPJ",
        "outputId": "c03e1911-a456-4e48-f3d9-6c7e962f277e"
      },
      "execution_count": 11,
      "outputs": [
        {
          "output_type": "stream",
          "name": "stderr",
          "text": [
            "<ipython-input-11-0e820eddedb3>:1: SettingWithCopyWarning: \n",
            "A value is trying to be set on a copy of a slice from a DataFrame.\n",
            "Try using .loc[row_indexer,col_indexer] = value instead\n",
            "\n",
            "See the caveats in the documentation: https://pandas.pydata.org/pandas-docs/stable/user_guide/indexing.html#returning-a-view-versus-a-copy\n",
            "  df_cleaned['SUPPLIER'] = df['SUPPLIER'].fillna('UNKNOWN')\n"
          ]
        }
      ]
    },
    {
      "cell_type": "code",
      "source": [
        "df_cleaned.isnull().sum()"
      ],
      "metadata": {
        "colab": {
          "base_uri": "https://localhost:8080/",
          "height": 366
        },
        "id": "J0rJDO-pcMzf",
        "outputId": "fdc2c102-c09d-4b97-a90d-aa2de0e939ea"
      },
      "execution_count": 12,
      "outputs": [
        {
          "output_type": "execute_result",
          "data": {
            "text/plain": [
              "YEAR                0\n",
              "MONTH               0\n",
              "SUPPLIER            0\n",
              "ITEM CODE           0\n",
              "ITEM DESCRIPTION    0\n",
              "ITEM TYPE           0\n",
              "RETAIL SALES        0\n",
              "RETAIL TRANSFERS    0\n",
              "WAREHOUSE SALES     0\n",
              "dtype: int64"
            ],
            "text/html": [
              "<div>\n",
              "<style scoped>\n",
              "    .dataframe tbody tr th:only-of-type {\n",
              "        vertical-align: middle;\n",
              "    }\n",
              "\n",
              "    .dataframe tbody tr th {\n",
              "        vertical-align: top;\n",
              "    }\n",
              "\n",
              "    .dataframe thead th {\n",
              "        text-align: right;\n",
              "    }\n",
              "</style>\n",
              "<table border=\"1\" class=\"dataframe\">\n",
              "  <thead>\n",
              "    <tr style=\"text-align: right;\">\n",
              "      <th></th>\n",
              "      <th>0</th>\n",
              "    </tr>\n",
              "  </thead>\n",
              "  <tbody>\n",
              "    <tr>\n",
              "      <th>YEAR</th>\n",
              "      <td>0</td>\n",
              "    </tr>\n",
              "    <tr>\n",
              "      <th>MONTH</th>\n",
              "      <td>0</td>\n",
              "    </tr>\n",
              "    <tr>\n",
              "      <th>SUPPLIER</th>\n",
              "      <td>0</td>\n",
              "    </tr>\n",
              "    <tr>\n",
              "      <th>ITEM CODE</th>\n",
              "      <td>0</td>\n",
              "    </tr>\n",
              "    <tr>\n",
              "      <th>ITEM DESCRIPTION</th>\n",
              "      <td>0</td>\n",
              "    </tr>\n",
              "    <tr>\n",
              "      <th>ITEM TYPE</th>\n",
              "      <td>0</td>\n",
              "    </tr>\n",
              "    <tr>\n",
              "      <th>RETAIL SALES</th>\n",
              "      <td>0</td>\n",
              "    </tr>\n",
              "    <tr>\n",
              "      <th>RETAIL TRANSFERS</th>\n",
              "      <td>0</td>\n",
              "    </tr>\n",
              "    <tr>\n",
              "      <th>WAREHOUSE SALES</th>\n",
              "      <td>0</td>\n",
              "    </tr>\n",
              "  </tbody>\n",
              "</table>\n",
              "</div><br><label><b>dtype:</b> int64</label>"
            ]
          },
          "metadata": {},
          "execution_count": 12
        }
      ]
    },
    {
      "cell_type": "code",
      "source": [
        "# Check Duplicate Values\n",
        "\n",
        "print(df_cleaned.duplicated())"
      ],
      "metadata": {
        "colab": {
          "base_uri": "https://localhost:8080/",
          "height": 0
        },
        "id": "pKsy0_OJcNws",
        "outputId": "bb031495-0f53-495c-a223-1a076addb671"
      },
      "execution_count": 13,
      "outputs": [
        {
          "output_type": "stream",
          "name": "stdout",
          "text": [
            "0         False\n",
            "1         False\n",
            "2         False\n",
            "3         False\n",
            "4         False\n",
            "          ...  \n",
            "307640    False\n",
            "307641    False\n",
            "307642    False\n",
            "307643    False\n",
            "307644    False\n",
            "Length: 307641, dtype: bool\n"
          ]
        }
      ]
    },
    {
      "cell_type": "code",
      "source": [
        "# Check Negative Values\n",
        "\n",
        "column = ['RETAIL SALES', 'RETAIL TRANSFERS', 'WAREHOUSE SALES']\n",
        "negative_counts = {col: (df_cleaned[col] < 0).sum() for col in column}\n",
        "print(negative_counts)"
      ],
      "metadata": {
        "colab": {
          "base_uri": "https://localhost:8080/",
          "height": 0
        },
        "id": "amFfrnyLcW6W",
        "outputId": "4c3deccc-b67f-4250-d6f9-5a98bc534d8f"
      },
      "execution_count": 14,
      "outputs": [
        {
          "output_type": "stream",
          "name": "stdout",
          "text": [
            "{'RETAIL SALES': 113, 'RETAIL TRANSFERS': 1016, 'WAREHOUSE SALES': 716}\n"
          ]
        }
      ]
    },
    {
      "cell_type": "code",
      "source": [
        "# Replace negative values with 0\n",
        "\n",
        "column = ['RETAIL SALES', 'RETAIL TRANSFERS', 'WAREHOUSE SALES']\n",
        "for col in column:\n",
        "    df_cleaned[col] = df_cleaned[col].where(df_cleaned[col] >= 0, 0)"
      ],
      "metadata": {
        "collapsed": true,
        "id": "j-z6gzvfcYCI"
      },
      "execution_count": null,
      "outputs": []
    },
    {
      "cell_type": "code",
      "source": [
        "# Count negative values in each column after replacing with 0\n",
        "\n",
        "column = ['RETAIL SALES', 'RETAIL TRANSFERS', 'WAREHOUSE SALES']\n",
        "negative_counts = {col: (df_cleaned[col] < 0).sum() for col in column}\n",
        "print(negative_counts)"
      ],
      "metadata": {
        "colab": {
          "base_uri": "https://localhost:8080/",
          "height": 0
        },
        "id": "ZN9riGgScZdy",
        "outputId": "f2ee8543-6dd9-41f7-97f8-ecbf15bc2cc0"
      },
      "execution_count": 16,
      "outputs": [
        {
          "output_type": "stream",
          "name": "stdout",
          "text": [
            "{'RETAIL SALES': 0, 'RETAIL TRANSFERS': 0, 'WAREHOUSE SALES': 0}\n"
          ]
        }
      ]
    },
    {
      "cell_type": "code",
      "source": [
        "print(df_cleaned)"
      ],
      "metadata": {
        "colab": {
          "base_uri": "https://localhost:8080/",
          "height": 0
        },
        "id": "D-B0HXFBcbBG",
        "outputId": "8b2183c3-0293-4e65-af3a-9536a8394dbd"
      },
      "execution_count": 17,
      "outputs": [
        {
          "output_type": "stream",
          "name": "stdout",
          "text": [
            "        YEAR  MONTH                             SUPPLIER ITEM CODE  \\\n",
            "0       2020      1    REPUBLIC NATIONAL DISTRIBUTING CO    100009   \n",
            "1       2020      1                            PWSWN INC    100024   \n",
            "2       2020      1              RELIABLE CHURCHILL LLLP      1001   \n",
            "3       2020      1            LANTERNA DISTRIBUTORS INC    100145   \n",
            "4       2020      1                 DIONYSOS IMPORTS INC    100293   \n",
            "...      ...    ...                                  ...       ...   \n",
            "307640  2020      9              BOSTON BEER CORPORATION     98868   \n",
            "307641  2020      9  GLOBAL OCEAN AND AIR CARGO SERVICES     98884   \n",
            "307642  2020      9                         HEINEKEN USA     98906   \n",
            "307643  2020      9              RELIABLE CHURCHILL LLLP     98914   \n",
            "307644  2020      9                CONSTANTINE WINES INC     98930   \n",
            "\n",
            "                           ITEM DESCRIPTION ITEM TYPE  RETAIL SALES  \\\n",
            "0                       BOOTLEG RED - 750ML      WINE          0.00   \n",
            "1                 MOMENT DE PLAISIR - 750ML      WINE          0.00   \n",
            "2       S SMITH ORGANIC PEAR CIDER - 18.7OZ      BEER          0.00   \n",
            "3             SCHLINK HAUS KABINETT - 750ML      WINE          0.00   \n",
            "4            SANTORINI GAVALA WHITE - 750ML      WINE          0.82   \n",
            "...                                     ...       ...           ...   \n",
            "307640           SAM ADAMS OCTOBERFEST 1/6K      KEGS          0.00   \n",
            "307641            HARAR BEER 4/6NR - 11.2OZ      BEER          1.50   \n",
            "307642                 DOS EQUIS LAGER 1/2K      KEGS          0.00   \n",
            "307643          LINDEMANS KRIEK NR - 25.4OZ      BEER          0.00   \n",
            "307644        ARIS GREEK LAGER 4/6NR - 11OZ      BEER          0.00   \n",
            "\n",
            "        RETAIL TRANSFERS  WAREHOUSE SALES  \n",
            "0                    0.0              2.0  \n",
            "1                    1.0              4.0  \n",
            "2                    0.0              1.0  \n",
            "3                    0.0              1.0  \n",
            "4                    0.0              0.0  \n",
            "...                  ...              ...  \n",
            "307640               0.0             54.0  \n",
            "307641               1.0              8.0  \n",
            "307642               0.0             22.0  \n",
            "307643               0.0              4.0  \n",
            "307644               0.0              0.0  \n",
            "\n",
            "[307641 rows x 9 columns]\n"
          ]
        }
      ]
    },
    {
      "cell_type": "markdown",
      "source": [
        "Cleaned the dataset by first loading and exploring it to identify missing values and data inconsistencies. Addressed missing values by removing rows with missing ITEM TYPE or RETAIL SALES (4 values in total) and replaced missing SUPPLIER entries with 'UNKNOWN'(164 Values). Negative values in RETAIL SALES, RETAIL TRANSFERS, and WAREHOUSE SALES columns were corrected to 0 . Duplicate records were also eliminated."
      ],
      "metadata": {
        "id": "8fC6rNwAr96m"
      }
    },
    {
      "cell_type": "markdown",
      "source": [
        "### **Part 2: Exploratory Data Analysis**"
      ],
      "metadata": {
        "id": "uQgf3oxQchk9"
      }
    },
    {
      "cell_type": "code",
      "source": [
        "# Calculate total sales by adding RETAIL SALES and WAREHOUSE SALES year wise\n",
        "\n",
        "\n",
        "total_sales_per_year = df_cleaned.groupby('YEAR')[['RETAIL SALES', 'WAREHOUSE SALES']].sum()\n",
        "\n",
        "total_sales_per_year['TOTAL SALES'] = total_sales_per_year['RETAIL SALES'] + total_sales_per_year['WAREHOUSE SALES']\n",
        "\n",
        "print(total_sales_per_year)\n"
      ],
      "metadata": {
        "colab": {
          "base_uri": "https://localhost:8080/",
          "height": 0
        },
        "id": "IarnIvm3dpdc",
        "outputId": "694ba9fa-93fa-4857-880d-7d02fe5f96f1"
      },
      "execution_count": 31,
      "outputs": [
        {
          "output_type": "stream",
          "name": "stdout",
          "text": [
            "      RETAIL SALES  WAREHOUSE SALES  TOTAL SALES\n",
            "YEAR                                            \n",
            "2017     686760.02       2382157.17   3068917.19\n",
            "2018     153598.36        530177.51    683775.87\n",
            "2019     960205.14       3613686.57   4573891.71\n",
            "2020     360379.22       1399486.62   1759865.84\n"
          ]
        }
      ]
    },
    {
      "cell_type": "code",
      "source": [
        "# Visualzie total sales by adding RETAIL SALES and WAREHOUSE SALES year wise in Lakhs\n",
        "\n",
        "\n",
        "import matplotlib.pyplot as plt\n",
        "\n",
        "total_sales_per_year = df_cleaned.groupby('YEAR')[['RETAIL SALES', 'WAREHOUSE SALES']].sum()\n",
        "total_sales_per_year['TOTAL SALES'] = total_sales_per_year['RETAIL SALES'] + total_sales_per_year['WAREHOUSE SALES']\n",
        "\n",
        "total_sales_per_year = total_sales_per_year.reset_index()\n",
        "\n",
        "plt.figure(figsize=(12, 6))\n",
        "\n",
        "plt.bar(total_sales_per_year['YEAR'], total_sales_per_year['RETAIL SALES'], label='Retail Sales', color='skyblue')\n",
        "plt.bar(total_sales_per_year['YEAR'], total_sales_per_year['WAREHOUSE SALES'], bottom=total_sales_per_year['RETAIL SALES'], label='Warehouse Sales', color='orange')\n",
        "\n",
        "plt.title('Total Sales by Year')\n",
        "plt.xlabel('Year')\n",
        "plt.ylabel('Sales')\n",
        "plt.xticks(total_sales_per_year['YEAR'])\n",
        "plt.legend()\n",
        "plt.grid(axis='y', linestyle='--', alpha=0.7)\n",
        "plt.show()\n"
      ],
      "metadata": {
        "colab": {
          "base_uri": "https://localhost:8080/",
          "height": 564
        },
        "id": "zBqj1WIzetFm",
        "outputId": "0c467d58-d49d-436a-c3c1-09b110e17978"
      },
      "execution_count": 36,
      "outputs": [
        {
          "output_type": "display_data",
          "data": {
            "text/plain": [
              "<Figure size 1200x600 with 1 Axes>"
            ],
            "image/png": "[encoded data removed]"
          },
          "metadata": {}
        }
      ]
    },
    {
      "cell_type": "code",
      "source": [
        "# Top 5 suppliers based on total sales\n",
        "\n",
        "\n",
        "df_cleaned['TOTAL SALES'] = df_cleaned['RETAIL SALES'] + df_cleaned['WAREHOUSE SALES']\n",
        "total_sales_by_supplier = df_cleaned.groupby('SUPPLIER')['TOTAL SALES'].sum()\n",
        "\n",
        "top_suppliers = total_sales_by_supplier.sort_values(ascending=False).head(5)\n",
        "\n",
        "print(top_suppliers)\n"
      ],
      "metadata": {
        "colab": {
          "base_uri": "https://localhost:8080/",
          "height": 0
        },
        "id": "8bsFgBPQikLg",
        "outputId": "57457dea-3064-4990-e36a-792d6304bcf5"
      },
      "execution_count": 37,
      "outputs": [
        {
          "output_type": "stream",
          "name": "stdout",
          "text": [
            "SUPPLIER\n",
            "CROWN IMPORTS             1736309.17\n",
            "MILLER BREWING COMPANY    1512604.65\n",
            "ANHEUSER BUSCH INC        1509222.07\n",
            "HEINEKEN USA               886035.37\n",
            "E & J GALLO WINERY         363673.65\n",
            "Name: TOTAL SALES, dtype: float64\n"
          ]
        },
        {
          "output_type": "stream",
          "name": "stderr",
          "text": [
            "<ipython-input-37-df11f46c190b>:2: SettingWithCopyWarning: \n",
            "A value is trying to be set on a copy of a slice from a DataFrame.\n",
            "Try using .loc[row_indexer,col_indexer] = value instead\n",
            "\n",
            "See the caveats in the documentation: https://pandas.pydata.org/pandas-docs/stable/user_guide/indexing.html#returning-a-view-versus-a-copy\n",
            "  df_cleaned['TOTAL SALES'] = df_cleaned['RETAIL SALES'] + df_cleaned['WAREHOUSE SALES']\n"
          ]
        }
      ]
    },
    {
      "cell_type": "code",
      "source": [
        "# Top 10 best-selling items (based on total sales)\n",
        "\n",
        "df_cleaned['TOTAL SALES'] = df_cleaned['RETAIL SALES'] + df_cleaned['WAREHOUSE SALES']\n",
        "total_sales_per_item = df_cleaned.groupby('ITEM CODE')[['TOTAL SALES']].sum()\n",
        "\n",
        "total_sales_per_item = total_sales_per_item.sort_values(by='TOTAL SALES', ascending=False)\n",
        "\n",
        "top_10_items = total_sales_per_item.head(10)\n",
        "\n",
        "top_10_items_details = df_cleaned[df_cleaned['ITEM CODE'].isin(top_10_items.index)][['ITEM CODE', 'ITEM DESCRIPTION', 'ITEM TYPE']].drop_duplicates()\n",
        "\n",
        "top_10_items_with_details = pd.merge(top_10_items, top_10_items_details, on='ITEM CODE')\n",
        "\n",
        "top_10_items_with_details = top_10_items_with_details.reset_index(drop=True)\n",
        "top_10_items_with_details.index += 1\n",
        "\n",
        "print(top_10_items_with_details)\n"
      ],
      "metadata": {
        "colab": {
          "base_uri": "https://localhost:8080/",
          "height": 0
        },
        "id": "y2vNHKE9i2lD",
        "outputId": "8170fc05-4ec1-4757-91ff-204951a2d7b8"
      },
      "execution_count": 47,
      "outputs": [
        {
          "output_type": "stream",
          "name": "stdout",
          "text": [
            "   ITEM CODE  TOTAL SALES                    ITEM DESCRIPTION ITEM TYPE\n",
            "1      23445    328224.83        CORONA EXTRA LOOSE NR - 12OZ      BEER\n",
            "2      96750    257679.62         CORONA EXTRA 2/12 NR - 12OZ      BEER\n",
            "3      23886    189711.21            HEINEKEN LOOSE NR - 12OZ      BEER\n",
            "4      96970    162224.15             HEINEKEN 2/12 NR - 12OZ      BEER\n",
            "5      90590    148926.40         MILLER LITE 30PK CAN - 12OZ      BEER\n",
            "6      96741    132665.61          CORONA EXTRA 4/6 NR - 12OZ      BEER\n",
            "7      25883    121846.80  MODELO ESPECIAL 24 LOOSE NR - 12OZ      BEER\n",
            "8      90468    108615.97                  BUD LIGHT 30PK CAN      BEER\n",
            "9      96083    105184.92              HEINEKEN 4/6 NR - 12OZ      BEER\n",
            "10     23314    100664.44         CORONA EXTRA 18PK NR - 12OZ      BEER\n"
          ]
        },
        {
          "output_type": "stream",
          "name": "stderr",
          "text": [
            "<ipython-input-47-53166d2309ce>:4: SettingWithCopyWarning: \n",
            "A value is trying to be set on a copy of a slice from a DataFrame.\n",
            "Try using .loc[row_indexer,col_indexer] = value instead\n",
            "\n",
            "See the caveats in the documentation: https://pandas.pydata.org/pandas-docs/stable/user_guide/indexing.html#returning-a-view-versus-a-copy\n",
            "  df_cleaned['TOTAL SALES'] = df_cleaned['RETAIL SALES'] + df_cleaned['WAREHOUSE SALES']\n"
          ]
        }
      ]
    },
    {
      "cell_type": "markdown",
      "source": [
        "Calculated the total sales by summing RETAIL SALES and WAREHOUSE SALES on a yearly basis. This provided a clearer view of sales trends over the years. I then visualized the total sales in lakhs to identify yearly patterns more effectively.\n",
        "\n",
        "Next, Identified the top 5 suppliers by total sales, with suppliers like CROWN IMPORTS, MILLER BREWING COMPANY AND ANHEUSER BUSCH INC leading in sales volume.\n",
        "\n",
        "Additionally, analyzed the top 10 best-selling items based on total sales, revealing that popular beer brands such as CORONA EXTRA and HEINEKEN dominated the market."
      ],
      "metadata": {
        "id": "3HGNBKIHqORO"
      }
    },
    {
      "cell_type": "code",
      "source": [],
      "metadata": {
        "id": "abf-lY-hlajP"
      },
      "execution_count": null,
      "outputs": []
    },
    {
      "cell_type": "markdown",
      "source": [
        "## **PART 3 : Business Analysis**"
      ],
      "metadata": {
        "id": "Ekt2BwK9lhX3"
      }
    },
    {
      "cell_type": "code",
      "source": [
        "# Monthly average retail sales and warehouse sales by Month-Year'\n",
        "\n",
        "import seaborn as sns\n",
        "\n",
        "monthly_avg_sales = df_cleaned.groupby(['YEAR', 'MONTH'])[['RETAIL SALES', 'WAREHOUSE SALES']].mean().reset_index()\n",
        "\n",
        "monthly_avg_sales['Month-Year'] = monthly_avg_sales['MONTH'].astype(str) + '-' + monthly_avg_sales['YEAR'].astype(str)\n",
        "\n",
        "plt.figure(figsize=(14, 7))\n",
        "sns.lineplot(data=monthly_avg_sales, x='Month-Year', y='RETAIL SALES', marker='o', label='Retail Sales', color='skyblue')\n",
        "sns.lineplot(data=monthly_avg_sales, x='Month-Year', y='WAREHOUSE SALES', marker='o', label='Warehouse Sales', color='orange')\n",
        "\n",
        "plt.title('Monthly Average Retail and Warehouse Sales')\n",
        "plt.xlabel('Month-Year')\n",
        "plt.ylabel('Average Sales')\n",
        "plt.xticks(rotation=45)\n",
        "plt.legend()\n",
        "plt.grid(True)\n",
        "plt.tight_layout()\n",
        "plt.show()\n"
      ],
      "metadata": {
        "colab": {
          "base_uri": "https://localhost:8080/",
          "height": 707
        },
        "id": "vWElxwpUm_bY",
        "outputId": "bda51465-d2c7-49ed-a0a2-a3b1c1d68739"
      },
      "execution_count": 49,
      "outputs": [
        {
          "output_type": "display_data",
          "data": {
            "text/plain": [
              "<Figure size 1400x700 with 1 Axes>"
            ],
            "image/png": "[encoded data removed]"
          },
          "metadata": {}
        }
      ]
    },
    {
      "cell_type": "code",
      "source": [
        "# Total sales for each item\n",
        "\n",
        "total_sales_per_item_type = df_cleaned.groupby('ITEM TYPE')[['RETAIL SALES', 'WAREHOUSE SALES']].sum()\n",
        "total_sales_per_item_type['TOTAL SALES'] = total_sales_per_item_type['RETAIL SALES'] + total_sales_per_item_type['WAREHOUSE SALES']\n",
        "\n",
        "total_sales_per_item_type = total_sales_per_item_type.sort_values(by='TOTAL SALES', ascending=False)\n",
        "\n",
        "print(total_sales_per_item_type)\n",
        "\n",
        "top_item_type = total_sales_per_item_type.iloc[0]\n",
        "print(f\"The item type that contributes the most to overall sales is: {top_item_type.name}\")\n"
      ],
      "metadata": {
        "colab": {
          "base_uri": "https://localhost:8080/",
          "height": 0
        },
        "id": "-MHoYlMbm_6C",
        "outputId": "eae5a9af-cab9-4fb2-839b-d4d45e7b199e"
      },
      "execution_count": 50,
      "outputs": [
        {
          "output_type": "stream",
          "name": "stdout",
          "text": [
            "              RETAIL SALES  WAREHOUSE SALES  TOTAL SALES\n",
            "ITEM TYPE                                               \n",
            "BEER             574220.86       6527995.14   7102216.00\n",
            "WINE             746526.31       1157428.28   1903954.59\n",
            "LIQUOR           802706.59         95004.19    897710.78\n",
            "KEGS                  0.00        118623.00    118623.00\n",
            "NON-ALCOHOL       34084.39         26159.26     60243.65\n",
            "STR_SUPPLIES       2740.88             0.00      2740.88\n",
            "REF                 663.71           298.00       961.71\n",
            "DUNNAGE               0.00             0.00         0.00\n",
            "The item type that contributes the most to overall sales is: BEER\n"
          ]
        }
      ]
    },
    {
      "cell_type": "markdown",
      "source": [
        "Calculated the monthly average sales for each year by aggregating RETAIL SALES and WAREHOUSE SALES. A 'Month-Year' column was created to facilitate better plotting and visualization of monthly trends for both retail and warehouse sales, providing insights into seasonality and monthly sales fluctuations.\n",
        "\n",
        "Analyzed total sales by item type by summing both retail and warehouse sales across item categories. This analysis revealed that BEER had the highest total sales, followed by WINE and LIQUOR, indicating that alcoholic beverages contribute the most to overall sales.\n",
        "\n",
        "\n",
        "**Analyse whether there are any seasonal trends in sales data ?**\n",
        "\n",
        "Yes there are seasonal trends\n",
        "-By calculating the monthly average sales for each year, the data can reveal fluctuations that suggest seasonality. Certain months consistently lie JULY show higher average sales in 2019 and 2020, particularly around holidays, like BEER, can be linked to seasonality. As it is the Highest selling product"
      ],
      "metadata": {
        "id": "__kJoDZBxma1"
      }
    },
    {
      "cell_type": "markdown",
      "source": [
        "## **Part 4 : Recommendations and Insights**"
      ],
      "metadata": {
        "id": "dJRy70uQzGrU"
      }
    },
    {
      "cell_type": "markdown",
      "source": [
        "**Insights :**\n",
        "\n",
        "1. Warehouse Sales Outperform Retail:  \n",
        "   The data shows that warehouse sales are more successful than retail sales. They should invest more in digital marketing and advertising to boost the online presence and sales.\n",
        "\n",
        "2. Strong Performance in 2019/20:  \n",
        "   The warehouse had a great year in 2019/20. They need to explore customer behavior during that time, especially looking at the impact of new product launches and seasonal trends that may have contributed to this success.\n",
        "\n",
        "3. High Demand for Beer:  \n",
        "   Beer is the top-selling product. They should create targeted marketing strategies for beer customers, offering exclusive promotions, discounts, and special collections. It’s also important to manage stock levels effectively to prevent any out-of-stock situations.\n",
        "\n",
        "5. Monitor Competitor Activity:  \n",
        "   Keep an eye on competitors’ strategies especially when the sales are less. This will help to stay competitive and identify new opportunities in the market."
      ],
      "metadata": {
        "id": "CA4FDOqb4Wa7"
      }
    },
    {
      "cell_type": "markdown",
      "source": [
        "**Recommendations:**\n",
        "\n",
        "\n",
        "1. Expand digital marketing efforts to enhance online visibility and reach a wider audience.\n",
        "2. Strengthen the e-commerce platform for a smoother and more user-friendly shopping experience.\n",
        "3. Conduct competitor analysis and follow market trends to prioritize investments effectively.\n",
        "4. Use customer segmentation to target specific groups with tailored marketing strategies.\n",
        "5. Incorporate feedback and offer personalized promotions to improve customer engagement.\n",
        "6. Implement a loyalty program for frequent customers, possibly using a points-based system.\n",
        "7. Identify causes of retail sales decline and improve the in-store experience, while integrating online and offline channels, like click-and-collect or in-store discounts.\n",
        "8. Track leads who are aware of the company and send them personalized offers and incentives to encourage their first purchase.\n"
      ],
      "metadata": {
        "id": "rGFpINCHzOEJ"
      }
    },
    {
      "cell_type": "markdown",
      "source": [
        "**Technical Recommendations:**\n",
        "1. Can use Google Data Studio which is free and easy to integrate with Google Analytics and other tools to visualize data.\n",
        "2. Customer Relationship Management (CRM) Tools for customer engagement, and sales tracking. Also can use zoho Inventory  for managing orders, warehouses,etc.\n",
        "3. DevOps Implementation:\n",
        "\n",
        "  GitHUB for version control and managing deployments efficiently.\n",
        "\n",
        "  Docker: Container platform for creating lightweight, portable applications that can run consistently across various environments.\n",
        "\n",
        "  Jenkins: Automating software builds, tests, and deployments, perfect for implementing CI/CD pipelines at a low cost.\n",
        "\n",
        "4. Invest in modern UX/UI design practices to create a seamless shopping experience. Use A/B testing to continuously improve website layout, reducing friction in the customer journey. Prioritize responsive and mobile-first design to cater to the increasing number of mobile shoppers"
      ],
      "metadata": {
        "id": "iHT2OkoG3DT6"
      }
    },
    {
      "cell_type": "markdown",
      "source": [
        "Hrushikesh Dagwar"
      ],
      "metadata": {
        "id": "NHDZ9cu55HDN"
      }
    }
  ]
}